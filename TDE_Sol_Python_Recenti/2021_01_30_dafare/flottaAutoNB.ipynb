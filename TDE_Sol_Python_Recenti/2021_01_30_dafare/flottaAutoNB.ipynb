{
  "nbformat": 4,
  "nbformat_minor": 0,
  "metadata": {
    "colab": {
      "name": "flottaAutoNB.ipynb",
      "provenance": [],
      "collapsed_sections": []
    },
    "kernelspec": {
      "name": "python3",
      "display_name": "Python 3"
    }
  },
  "cells": [
    {
      "cell_type": "markdown",
      "metadata": {
        "id": "wDy3iuuRThZa"
      },
      "source": [
        "# Traccia esame\n",
        "\n",
        "**Inserisci il tuo codice python dove esplicitamente indicato.**\n",
        "\n",
        "**Esegui le celle di codice qua sotto mano a mano che le incontri.**"
      ]
    },
    {
      "cell_type": "code",
      "metadata": {
        "id": "Wmwa-paxla7n"
      },
      "source": [
        "# -*- coding: utf-8 -*-\n",
        "# il commento sopra serve per le lettere accentate,\n",
        "# per favore non modificate queste righe\n",
        "\n",
        "nomeEsercizio = 'flottaAuto'"
      ],
      "execution_count": null,
      "outputs": []
    },
    {
      "cell_type": "markdown",
      "metadata": {
        "id": "QOb9FgWxPxpS"
      },
      "source": [
        "Vi forniamo un esempio di struttura dati che potrebbe essere restituita da una delle funzioni seguenti.\n",
        "\n",
        "La (vera) struttura dati caricata dal file sara' diversa: può essere più lunga, i primi elementi possono differire come valori.\n"
      ]
    },
    {
      "cell_type": "code",
      "metadata": {
        "id": "LnhjoHzDlc9S"
      },
      "source": [
        "# Esegui questa cella se vuoi usare la struttura dati in seguito\n",
        "datiFlotta=[('G1', 'VU120TM', 10, 90), ('G1', 'ML147OE', 45, 359), ('G1', 'WQ616LH', 40, 518), ('G1', 'JT776XI', 5, 55), ('G1', 'GC237KT', 5, 31), ('G1', 'QZ499GB', 15, 117), ('G1', 'EK274HV', 45, 403), ('G2', 'NI744BS', 20, 154), ('G2', 'GC237KT', 10, 65), ('G2', 'EP016HP', 40, 598), ('G2', 'KF234TQ', 30, 185), ('G2', 'GM127CC', 5, 79), ('G2', 'EN065TU', 15, 248), ('G2', 'RJ530VN', 20, 360), ('G2', 'PD452QD', 20, 218), ('G2', 'QA408MW', 10, 81), ('G2', 'GV183BX', 40, 475), ('G3', 'GM127CC', 30, 552), ('G3', 'JT776XI', 5, 46), ('G3', 'RJ530VN', 5, 89), ('G3', 'EV599RN', 25, 120), ('G3', 'EP016HP', 20, 234), ('G3', 'NJ637QS', 10, 135), ('G3', 'BA867OR', 5, 64), ('G3', 'VU120TM', 15, 124), ('G3', 'OH062GK', 25, 141), ('G3', 'HN165WY', 35, 450), ('G3', 'NB994MY', 25, 403), ('G4', 'PD470UJ', 35, 504), ('G4', 'BA867OR', 50, 742), ('G4', 'EK274HV', 20, 177), ('G4', 'ML147OE', 25, 169), ('G4', 'EP016HP', 20, 286), ('G4', 'WQ616LH', 15, 266), ('G4', 'EN065TU', 20, 302), ('G4', 'GM127CC', 10, 152), ('G4', 'KF234TQ', 35, 239), ('G4', 'GG666VN', 5, 111), ('G4', 'JN795IR', 30, 344), ('G5', 'GC237KT', 20, 120), ('G5', 'RJ530VN', 25, 454), ('G5', 'DI052KU', 35, 407), ('G5', 'BA867OR', 20, 297), ('G5', 'QZ499GB', 25, 145), ('G6', 'EV599RN', 40, 199), ('G6', 'EK274HV', 15, 141), ('G7', 'OH062GK', 5, 30), ('G7', 'DI052KU', 40, 547), ('G7', 'PD470UJ', 40, 672), ('G7', 'EN065TU', 15, 264), ('G7', 'GG666VN', 15, 336), ('G7', 'SN351FS', 50, 950), ('G7', 'VF541LZ', 20, 180), ('G7', 'EK274HV', 10, 65), ('G7', 'GM127CC', 5, 94), ('G8', 'GG666VN', 35, 764), ('G8', 'EP016HP', 35, 368), ('G8', 'QZ499GB', 25, 206), ('G8', 'CY009LW', 35, 148), ('G8', 'RJ530VN', 50, 720), ('G8', 'NB994MY', 50, 1007), ('G8', 'OH062GK', 15, 97), ('G8', 'NJ637QS', 40, 632), ('G9', 'EN065TU', 45, 834), ('G9', 'NI744BS', 25, 192), ('G9', 'GC237KT', 10, 67), ('G9', 'BA867OR', 20, 354), ('G9', 'VF541LZ', 50, 500), ('G9', 'WQ616LH', 40, 608), ('G9', 'CY009LW', 15, 78), ('G9', 'GG666VN', 20, 444), ('G9', 'SN351FS', 40, 912), ('G9', 'QA408MW', 45, 517), ('G9', 'EV599RN', 5, 28), ('G10', 'EV599RN', 15, 104), ('G10', 'EN065TU', 30, 621), ('G10', 'GM127CC', 50, 896), ('G10', 'PD470UJ', 40, 522),]"
      ],
      "execution_count": null,
      "outputs": []
    },
    {
      "cell_type": "markdown",
      "metadata": {
        "id": "Wh1WiRSXQ7VX"
      },
      "source": [
        "## DESCRIZIONE DEI FILE CON I DATI\n",
        "\n",
        "Nel file .zip troverete uno script .py da editare o un notebook equivalente (questo) e un file dati descritto qua di seguito.\n",
        "\n",
        "\n",
        "\n",
        "*   File **consumiFlotta.csv**\n",
        "Il file memorizza le informazioni sulle auto utilizzate \n",
        "   da un gruppo di guidatori, sui km percorsi e sui litri di carburante consumati. \n",
        "   Un esempio del contenuto del file e' contenuto nella stringa seguente.\n",
        "   La prima riga descrive la struttura delle righe successive.\n",
        "   I valori sono separati da ; e per andare a capo e' utilizzato il \\n"
      ]
    },
    {
      "cell_type": "code",
      "metadata": {
        "colab": {
          "base_uri": "https://localhost:8080/"
        },
        "id": "DtII4N3WQk0r",
        "outputId": "254a92f0-e279-4392-9b41-71d7d8d2aa4f"
      },
      "source": [
        "\"\"\"\n",
        "id_guidatore;targa1;litri1;km1;targa2;litri2;km2;...;targaN;litriN;kmN\n",
        "G1;VU120TM;10L;90KM;ML147OE;45L;359KM\n",
        "G2;NI744BS;20L;154KM;GC237KT;10L;65KM;EP016HP;40L;598KM\n",
        "G3;GM127CC;30L;552KM;JT776XI;5L;46KM;RJ530VN;5L;89KM;EV599RN;25L;120KM;EP016HP;20L;234KM;NJ637QS;10L;135KM;BA867OR;5L;64KM;VU120TM;15L;124KM;OH062GK;25L;141KM;HN165WY;35L;450KM;NB994MY;25L;403KM\n",
        "G4;PD470UJ;35L;504KM;BA867OR;50L;742KM;EK274HV;20L;177KM;ML147OE;25L;169KM;EP016HP;20L;286KM;WQ616LH;15L;266KM;EN065TU;20L;302KM;GM127CC;10L;152KM;KF234TQ;35L;239KM;GG666VN;5L;111KM;JN795IR;30L;344KM\n",
        "G5;GC237KT;20L;120KM;RJ530VN;25L;454KM;DI052KU;35L;407KM;BA867OR;20L;297KM;QZ499GB;25L;145KM\n",
        "G6;EV599RN;40L;199KM;EK274HV;15L;141KM\n",
        "...\n",
        "\"\"\"\n",
        "print() # serve per non visualizzare la stringa qua sotto"
      ],
      "execution_count": null,
      "outputs": [
        {
          "output_type": "stream",
          "text": [
            "\n"
          ],
          "name": "stdout"
        }
      ]
    },
    {
      "cell_type": "markdown",
      "metadata": {
        "id": "MGaZ6foTRsXa"
      },
      "source": [
        "In ogni record (record e' un sinonimo di 'riga') sono memorizzate le auto guidate da un guidatore, i litri consumati ed i km percorsi. Attenzione, quando un guidatore guida diversi veicoli, su una riga ci sono i dati di piu' veicoli. Le informazioni sono organizzate nel modo seguente. \n",
        "\n",
        "*   id_guidatore. E' sempre la prima informazione della riga. Si tratta di una stringa che inizia con 'G' e che identifica univocamente un guidatore.\n",
        "*   targa. Per esempio AA123BB, è la targa dell'auto guidata. \n",
        "*   litri. Sono i litri di carburante consumati dall'autista alla guida   dell'auto (la cui targa si trova a sinistra di litri).\n",
        "*   km percorsi. I km percorsi dall'autista con il veicolo.\n",
        "*   ... \n",
        "Se nella riga sono presenti i dati di piu' veicoli, per ogni veicolo sono riportati (sempre nello stesso ordine) targa, litri, e km percorsi. Litri e km si possono riconoscere oltre che dall'ordine, anche dalla/e lettere finali, rispettivamente L e KM.\n",
        "\n",
        "Alcune note sul contenuto del file\n",
        "*   Il numero dei dati presente in ogni riga cambia in base al numero di veicoli guidati dal guidatore.\n",
        "*   Lo stesso veicolo puo' essere guidato da piu' guidatori, pertanto la targa di un veicolo puo' apparire in diverse righe. Tuttavia, i dati presenti in una riga fanno riferimento solo ai litri consumati e ai km percorsi dal guidatore a cui la riga fa riferimento.\n",
        "*   In una riga, una stessa targa non puo' essere presente piu' di una volta.\n",
        "\n",
        "***NOTA BENE***: aprite il file .csv ...\n",
        "*    ... con un editor di testo diverso da notepad \n",
        "*    ... senza usare excel (o programmi similari)\n",
        "*   Se usate colab o infrastrutture in cloud, ricordatevi di caricare il file .csv nella macchina in cloud"
      ]
    },
    {
      "cell_type": "markdown",
      "metadata": {
        "id": "N-q7LGfWTqd4"
      },
      "source": [
        "# INTRODUZIONE AL LAVORO DA SVOLGERE\n",
        "\n",
        "Implementate le seguenti funzioni, il testo che precede ogni funzione vi spiegherà in dettaglio che cosa fare.\n",
        "\n",
        "Controllate nel corpo principale del programma (in fondo al notebook), come vengono invocate le funzioni che implementerete.\n",
        "Per favore NON USATE le istruzioni input() o raw_input()\n",
        "nel codice che scriverete.\n",
        "Se volete, potete implementare delle funzioni aggiuntive rispetto a quelle gia' presenti qua sotto."
      ]
    },
    {
      "cell_type": "markdown",
      "metadata": {
        "id": "7yQNfqkCT47X"
      },
      "source": [
        "# Inizio della parte da editare\n",
        "\n",
        "---\n",
        "\n",
        "Scrivi qua sotto il tuo nome e cognome"
      ]
    },
    {
      "cell_type": "code",
      "metadata": {
        "id": "9n9UQodMTp1U"
      },
      "source": [
        "cognome = 'Sostituiscimi con il cognome'  # inserisci qua il tuo cognome\n",
        "nome = 'Sostituiscimi con il nome'  # inserisci qua il tuo nome"
      ],
      "execution_count": null,
      "outputs": []
    },
    {
      "cell_type": "markdown",
      "metadata": {
        "id": "f0yY1nWzUC0X"
      },
      "source": [
        "---\n",
        "\n",
        "La funzione seguente *caricaDatiFlotta()*, accetta come parametro in ingresso il nome del file .csv contenente i dati descritti in precedenza.\n",
        "La funzione deve leggere il contenuto del file e restituire una lista di tuple, come nell'esempio seguente:\n",
        "```\n",
        "        [\n",
        "          ('id_guidatore1', 'targa_auto1', litri, km_percorsi),\n",
        "          ('id_guidatore1', 'targa_auto2', litri, km_percorsi),\n",
        "          ('id_guidatore2', 'targa_auto5', litri, km_percorsi),\n",
        "          ('id_guidatore2', 'targa_auto6', litri, km_percorsi),\n",
        "          ...\n",
        "        ]\n",
        "```  \n",
        "dove ogni tupla contiene le informazioni su litri e km percorsi da un autista su un'auto. \n",
        "\n",
        "Per esempio, la funzione applicata ad un file con il contenuto seguente\n",
        "\n",
        "    id_guidatore;targa1;litri1;km1;targa2;litri2;km2;...;targaN;litriN;kmN\n",
        "    G1;VU120TM;10L;90KM;ML147OE;45L;359KM;WQ616LH;40L;518KM\n",
        "    G2;NI744BS;20L;154KM\n",
        "    ...\n",
        "\n",
        "deve restituire una struttura dati come la seguente\n",
        "\n",
        "```\n",
        "[ \n",
        "     ('G1','VU120TM',10,90), # gli ultimi due valori sono rispettivamente i litri e i chilometri percorsi\n",
        "     ('G1','ML147OE',45,359),\n",
        "     ('G1','WQ616LH',40,518), # qui finiscono i dati della prima riga\n",
        "     ('G2','NI744BS',20,154),\n",
        "     ...\n",
        "]\n",
        "```\n",
        "In ogni tupla, litri e km percorsi devono essere valori interi.\n",
        "**NOTA BENE**: il risultato restituito da questa funzione e' utilizzato dalle funzioni successive, se in via provvisoria volete lavorare sulle funzioni successive senza implementare l'attuale, potete utilizzare la struttura dati creata all'inizio di questo script (per usarla dentro la funzione seguente, basta togliere il commento dalla prima riga di codice).\n",
        "In quest'ultimo caso tuttavia la funzione sara' considerata non implementata.\n",
        "    "
      ]
    },
    {
      "cell_type": "code",
      "metadata": {
        "id": "UT71g17XRhER"
      },
      "source": [
        "# Implementate qua sotto il codice della funzione. \n",
        "# La riga con il pass puo' essere cancellata.\n",
        "def caricaDatiFlotta(fn):\n",
        "  # return datiFlotta # se non riuscite ad implementare la funzione, potete usare temporaneamente questa struttura dati\n",
        "  pass # Implementate qua sotto il codice della funzione. La riga con il pass puo' essere cancellata.\n",
        "\n"
      ],
      "execution_count": null,
      "outputs": []
    },
    {
      "cell_type": "markdown",
      "metadata": {
        "id": "7APdl5vGXWIb"
      },
      "source": [
        "---\n",
        "\n",
        "*   La funzione trovaPiedePesante() accetta come parametri in ingresso la struttura dati restituita dalla funzione caricaDatiFlotta(). La funzione trovaPiedePesante() deve restituire le informazioni sul guidatore che ha il valore piu' basso dell'indicatore\n",
        "km_per_litro = (totale chilometri percorsi dal guidatore) / (totale dei litri consumati dal guidatore).\n",
        "Precisazione: un auto puo' essere usata da piu' guidatori, tuttavia\n",
        "nel calcolo dell'indicatore per un guidatore vanno considerati \n",
        "solo i km percorsi e il carburante da lui consumato.\n",
        "Se ci fossero piu' guidatori a pari merito, con il valore piu' basso \n",
        "dell'indicatore km_per_litro sceglietene uno come meglio preferite.\n",
        "La funzione deve restituire una tupla come la seguente\n",
        "\n",
        "```   \n",
        "(id_guidatore, km_totali, litri_totali, km_per_litro)\n",
        "```\n",
        "\n",
        "con i dati del guidatore selezionato. \n",
        "*   km_totali rappresenta i km totali percorsi dal guidatore, \n",
        "*   litri_totali e' il totale dei litri consumati dal guidatore,\n",
        "*   km_per_litro e' il rapporto tra i due valori precedenti e deve essere di tipo float."
      ]
    },
    {
      "cell_type": "code",
      "metadata": {
        "id": "r8KCVkScZe9V"
      },
      "source": [
        "# Implementate qua sotto il codice della funzione. \n",
        "# La riga con il pass puo' essere cancellata.\n",
        "def trovaPiedePesante(ds):\n",
        "  pass \n",
        "  "
      ],
      "execution_count": null,
      "outputs": []
    },
    {
      "cell_type": "markdown",
      "metadata": {
        "id": "zv9owxwzU9dI"
      },
      "source": [
        "---\n",
        "\n",
        "La funzione trovaAuto() accetta come parametri in ingresso la struttura dati restituita dalla funzione caricaDatiFlotta().\n",
        "La funzione trovaAuto() deve individuare le 5 auto che hanno percorso piu' strada (considerando la strada percorsa da tutti i guidatori). \n",
        "La funzione deve restituire una lista di 5 targhe, come nell'esempio seguente (i valori non coincidono con il risultato che dovrete ottenere) \n",
        "``` \n",
        "['AA123BB', 'CC456DD', ... 'kk747JJ']\n",
        "``` \n",
        "\n",
        "Le targhe devono essere ordinate, da sinistra verso destra in ordine decrescente di km percorsi. Se ci fossero auto con pari percorrenza, scegliete voi in che ordine disporle. \n",
        "   In ogni caso, la lista restituita deve avere solo 5 elementi.\n",
        "  - Facoltativo: non utilizzate le funzioni di ordinamento presenti in libreria ma implementate voi un algoritmo di ordinamento. \n",
        "  - Facoltativo significa che non siete obbligati a farlo, ma se lo fate potreste prendere dei punti extra. "
      ]
    },
    {
      "cell_type": "code",
      "metadata": {
        "id": "-p1e222GZq5w"
      },
      "source": [
        "# Implementate qua sotto il codice della funzione. \n",
        "# La riga con il pass puo' essere cancellata.\n",
        "def trovaAuto(ds):\n",
        "    pass \n",
        "    "
      ],
      "execution_count": null,
      "outputs": []
    },
    {
      "cell_type": "markdown",
      "metadata": {
        "id": "11eNtkaZa5XK"
      },
      "source": [
        "# Fine della parte da editare\n",
        "\n",
        "Fine del compito e della parte da editare obbligatoriamente.\n",
        "\n",
        "Qua sotto troverete il corpo principale del programma. Potete modificare o lasciare invariato il codice qua sotto (a vostra scelta), se lo modificate, accertatevi che il codice non dia errori in esecuzione."
      ]
    },
    {
      "cell_type": "code",
      "metadata": {
        "colab": {
          "base_uri": "https://localhost:8080/"
        },
        "id": "5pkxiv0ubcvY",
        "outputId": "5ab0fdd8-76f8-45eb-fa4a-0667590fe676"
      },
      "source": [
        "print('-'*30)\n",
        "print('Esercizio %s.' % (nomeEsercizio))\n",
        "print('Ciao nome: %s, cognome: %s.' % (nome, cognome))\n",
        "\n",
        "print('1) Eseguo la funzione caricaDatiFlotta: ')\n",
        "csvfn = 'consumiFlotta.csv'\n",
        "dflo = caricaDatiFlotta(csvfn)\n",
        "print(dflo)\n",
        "\n",
        "print('2) Eseguo la funzione trovaPiedePesante: ')\n",
        "res2 = trovaPiedePesante(dflo)\n",
        "print(res2)\n",
        "\n",
        "print('3) Eseguo la funzione trovaAuto: ')\n",
        "res3 = trovaAuto(dflo)\n",
        "print(res3)\n",
        "\n",
        "print('Nome file e autore dello script eseguito')\n",
        "print('Autore: %s, %s' % (nome, cognome))\n",
        "print('-'*30)"
      ],
      "execution_count": null,
      "outputs": [
        {
          "output_type": "stream",
          "text": [
            "------------------------------\n",
            "Esercizio flottaAuto.\n",
            "Ciao nome: Sostituiscimi con il nome, cognome: Sostituiscimi con il cognome.\n",
            "1) Eseguo la funzione caricaDatiFlotta: \n",
            "None\n",
            "2) Eseguo la funzione trovaPiedePesante: \n",
            "None\n",
            "3) Eseguo la funzione trovaAuto: \n",
            "None\n",
            "Nome file e autore dello script eseguito\n",
            "Autore: Sostituiscimi con il nome, Sostituiscimi con il cognome\n",
            "------------------------------\n"
          ],
          "name": "stdout"
        }
      ]
    }
  ]
}