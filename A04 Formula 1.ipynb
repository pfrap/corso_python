{
 "cells": [
  {
   "cell_type": "markdown",
   "id": "9c667b03",
   "metadata": {},
   "source": [
    "# A04 Formula 1"
   ]
  },
  {
   "cell_type": "code",
   "execution_count": 1,
   "id": "6a6720e4",
   "metadata": {},
   "outputs": [
    {
     "name": "stdout",
     "output_type": "stream",
     "text": [
      "Vittorie, primi posti, podi di Hamilton [98, 5, 10]\n",
      "{'Hamilton': 98, 'Massa': 97, 'Raikkonen': 75, 'Kubica': 75, 'Alonso': 61, 'Heidfeld': 60, 'Kovalainen': 53, 'Vettel': 35, 'Trulli': 31, 'Glock': 25}\n"
     ]
    }
   ],
   "source": [
    "# -*- coding: utf-8 -*-   Questo commento informa l'interprete python che il file usera' lettere accentate, per favore non cancellatelo\n",
    "\n",
    "piloti=(\"Hamilton\",\"Massa\",\"Raikkonen\",\"Kubica\",\"Alonso\",\"Heidfeld\",\"Kovalainen\",\"Vettel\",\"Trulli\",\"Glock\")\n",
    "\n",
    "\n",
    "#Punti: 10 al vincitore, 8 al secondo, 6 al terzo, e poi a scalare di 1 punto fino all'ottavo\n",
    "ord_arrivo=[\n",
    "(\"Melbourne\",\"Australia\",\"1\",\"0\",\"8\",\"0\",\"4\",\"2\",\"5\",\"0\",\"0\",\"0\"),\n",
    "(\"Sepang\",\"Malesia\",\"5\",\"0\",\"1\",\"2\",\"8\",\"6\",\"3\",\"0\",\"4\",\"0\"),\n",
    "(\"Sakhir\",\"Bahrain\",\"0\",\"1\",\"2\",\"3\",\"0\",\"4\",\"5\",\"0\",\"6\",\"0\"),\n",
    "(\"Barcellona\",\"Spagna\",\"3\",\"2\",\"1\",\"4\",\"0\",\"0\",\"0\",\"0\",\"8\",\"0\"),\n",
    "(\"Istanbul\",\"Turchia\",\"2\",\"1\",\"3\",\"4\",\"6\",\"5\",\"0\",\"0\",\"0\",\"0\"),\n",
    "(\"Montecarlo\",\"Monaco\",\"1\",\"3\",\"0\",\"2\",\"0\",\"0\",\"8\",\"5\",\"0\",\"0\"),\n",
    "(\"Montreal\",\"Canada\",\"0\",\"5\",\"0\",\"1\",\"0\",\"2\",\"0\",\"8\",\"6\",\"4\"),\n",
    "(\"Magny-Cours\",\"Francia\",\"0\",\"1\",\"2\",\"5\",\"8\",\"0\",\"4\",\"0\",\"3\",\"0\"),\n",
    "(\"Silverstone\",\"Inghilterra\",\"1\",\"0\",\"4\",\"0\",\"6\",\"2\",\"5\",\"0\",\"7\",\"0\"),\n",
    "(\"Hockenheim\",\"Germania\",\"1\",\"3\",\"6\",\"7\",\"0\",\"4\",\"5\",\"8\",\"0\",\"0\"),\n",
    "(\"Hungaroring\",\"Ungheria\",\"5\",\"0\",\"3\",\"8\",\"4\",\"0\",\"1\",\"0\",\"7\",\"2\"),\n",
    "(\"Valencia\",\"Europa\",\"2\",\"1\",\"0\",\"3\",\"0\",\"0\",\"4\",\"6\",\"5\",\"7\"),\n",
    "(\"Spa\",\"Belgio\",\"3\",\"1\",\"0\",\"6\",\"4\",\"2\",\"0\",\"5\",\"0\",\"0\"),\n",
    "(\"Monza\",\"Italia\",\"7\",\"6\",\"0\",\"3\",\"4\",\"5\",\"2\",\"1\",\"0\",\"0\"),\n",
    "(\"Singapore\",\"Singapore\",\"3\",\"0\",\"0\",\"0\",\"1\",\"6\",\"0\",\"5\",\"0\",\"4\"),\n",
    "(\"Fuji\",\"Giappone\",\"0\",\"7\",\"3\",\"2\",\"1\",\"0\",\"0\",\"6\",\"5\",\"0\"),\n",
    "(\"Shangai\",\"Cina\",\"1\",\"2\",\"3\",\"6\",\"4\",\"5\",\"0\",\"0\",\"0\",\"7\"),\n",
    "(\"Interlagos\",\"Brasile\",\"5\",\"1\",\"3\",\"0\",\"2\",\"0\",\"7\",\"4\",\"8\",\"6\")\n",
    "]\n",
    "\n",
    "pil2cost={\"Hamilton\":\"McLaren\",\"Massa\":\"Ferrari\",\"Raikkonen\":\"Ferrari\",\"Kubica\":\"BMW\" ,\"Alonso\":\"Renault\",\"Heidfeld\":\"BMW\" ,\"Kovalainen\":\"McLaren\",\"Vettel\":\"Toro Rosso\", \"Trulli\":\"Toyota\",\"Glock\":\"Toyota\"}\n",
    "\n",
    "#togliete il commento dalla funzione sottostante che dovete implementare,\n",
    "#inserite gli eventuali parametri formali secondo l'ordine indicato nell'assegnamento, \n",
    "#implementate la funzione\n",
    "\n",
    "def puntiPilota(nome):   \n",
    "    if nome in piloti:\n",
    "        ind_pil=piloti.index(nome)\n",
    "        ind_ord_arr=piloti.index(nome)+2\n",
    "        punt_pil=0\n",
    "        vitt_pil=0\n",
    "        pod_pil=0\n",
    "        for n in ord_arrivo:\n",
    "            if n[ind_ord_arr]==\"0\":\n",
    "                punt_pil+=0\n",
    "            elif n[ind_ord_arr]==\"1\":\n",
    "                punt_pil+=10\n",
    "                vitt_pil+=1\n",
    "                pod_pil+=1\n",
    "            elif n[ind_ord_arr]==\"2\":\n",
    "                punt_pil+=8\n",
    "                pod_pil+=1        \n",
    "            elif n[ind_ord_arr]==\"3\":\n",
    "                punt_pil+=6\n",
    "                pod_pil+=1\n",
    "            elif n[ind_ord_arr]==\"4\":\n",
    "                punt_pil+=5\n",
    "            elif n[ind_ord_arr]==\"5\":\n",
    "                punt_pil+=4\n",
    "            elif n[ind_ord_arr]==\"6\":\n",
    "                punt_pil+=3\n",
    "            elif n[ind_ord_arr]==\"7\":\n",
    "                punt_pil+=2\n",
    "            elif n[ind_ord_arr]==\"8\":\n",
    "                punt_pil+=1\n",
    "        punteggio=[punt_pil, vitt_pil, pod_pil]\n",
    "        print ('Vittorie, primi posti, podi di', nome, punteggio)\n",
    "        return punteggio\n",
    "puntiPilota('Hamilton')\n",
    "\n",
    "def classificaPiloti():\n",
    "    global class_gp\n",
    "    class_gp={}\n",
    "    for nome in piloti:\n",
    "        ind_ord_arr=piloti.index(nome)+2\n",
    "        punt_pil=0\n",
    "        for n in ord_arrivo:\n",
    "            if n[ind_ord_arr]==\"0\":\n",
    "                punt_pil+=0\n",
    "            elif n[ind_ord_arr]==\"1\":\n",
    "                punt_pil+=10\n",
    "            elif n[ind_ord_arr]==\"2\":\n",
    "                punt_pil+=8\n",
    "            elif n[ind_ord_arr]==\"3\":\n",
    "                punt_pil+=6\n",
    "            elif n[ind_ord_arr]==\"4\":\n",
    "                punt_pil+=5\n",
    "            elif n[ind_ord_arr]==\"5\":\n",
    "                punt_pil+=4\n",
    "            elif n[ind_ord_arr]==\"6\":\n",
    "                punt_pil+=3\n",
    "            elif n[ind_ord_arr]==\"7\":\n",
    "                punt_pil+=2\n",
    "            elif n[ind_ord_arr]==\"8\":\n",
    "                punt_pil+=1\n",
    "        class_gp[nome]=punt_pil\n",
    "    print(class_gp)\n",
    "classificaPiloti()"
   ]
  },
  {
   "cell_type": "code",
   "execution_count": 2,
   "id": "3f3994c8",
   "metadata": {
    "scrolled": true
   },
   "outputs": [
    {
     "name": "stdout",
     "output_type": "stream",
     "text": [
      "{'Hamilton': 98, 'Massa': 97, 'Raikkonen': 75, 'Kubica': 75, 'Alonso': 61, 'Heidfeld': 60, 'Kovalainen': 53, 'Vettel': 35, 'Trulli': 31, 'Glock': 25}\n"
     ]
    }
   ],
   "source": [
    "classificaPiloti()"
   ]
  },
  {
   "cell_type": "code",
   "execution_count": 3,
   "id": "9899a111",
   "metadata": {
    "scrolled": true
   },
   "outputs": [
    {
     "name": "stdout",
     "output_type": "stream",
     "text": [
      "{'Hamilton': 98, 'Massa': 97, 'Raikkonen': 75, 'Kubica': 75, 'Alonso': 61, 'Heidfeld': 60, 'Kovalainen': 53, 'Vettel': 35, 'Trulli': 31, 'Glock': 25}\n"
     ]
    }
   ],
   "source": [
    "print(class_gp)\n",
    "#Funziona perchè ho chiamato la funzione prima, che ha generato una variabile globale"
   ]
  },
  {
   "cell_type": "code",
   "execution_count": 4,
   "id": "40ae70d4",
   "metadata": {},
   "outputs": [
    {
     "name": "stdout",
     "output_type": "stream",
     "text": [
      "{'McLaren': 151, 'Ferrari': 172, 'BMW': 135, 'Renault': 61, 'Toro Rosso': 35, 'Toyota': 56}\n"
     ]
    }
   ],
   "source": [
    "def classificaCostruttori():\n",
    "    global class_cs\n",
    "    class_cs={}\n",
    "    for nome, cs in pil2cost.items():\n",
    "        ind_ord_arr=piloti.index(nome)+2\n",
    "        punt_pil=0\n",
    "        for n in ord_arrivo:\n",
    "            if n[ind_ord_arr]==\"0\":\n",
    "                punt_pil+=0\n",
    "            elif n[ind_ord_arr]==\"1\":\n",
    "                punt_pil+=10\n",
    "            elif n[ind_ord_arr]==\"2\":\n",
    "                punt_pil+=8\n",
    "            elif n[ind_ord_arr]==\"3\":\n",
    "                punt_pil+=6\n",
    "            elif n[ind_ord_arr]==\"4\":\n",
    "                punt_pil+=5\n",
    "            elif n[ind_ord_arr]==\"5\":\n",
    "                punt_pil+=4\n",
    "            elif n[ind_ord_arr]==\"6\":\n",
    "                punt_pil+=3\n",
    "            elif n[ind_ord_arr]==\"7\":\n",
    "                punt_pil+=2\n",
    "            elif n[ind_ord_arr]==\"8\":\n",
    "                punt_pil+=1\n",
    "        if cs in class_cs:\n",
    "            i=class_cs[cs]\n",
    "            class_cs[cs]=punt_pil+i\n",
    "        else:\n",
    "            class_cs[cs]=punt_pil\n",
    "    print(class_cs)\n",
    "classificaCostruttori()"
   ]
  },
  {
   "cell_type": "code",
   "execution_count": 5,
   "id": "52c98d74",
   "metadata": {},
   "outputs": [
    {
     "name": "stdout",
     "output_type": "stream",
     "text": [
      "{'McLaren': 151, 'Ferrari': 172, 'BMW': 135, 'Renault': 61, 'Toro Rosso': 35, 'Toyota': 56}\n"
     ]
    }
   ],
   "source": [
    "print(class_cs)"
   ]
  }
 ],
 "metadata": {
  "kernelspec": {
   "display_name": "Python 3 (ipykernel)",
   "language": "python",
   "name": "python3"
  },
  "language_info": {
   "codemirror_mode": {
    "name": "ipython",
    "version": 3
   },
   "file_extension": ".py",
   "mimetype": "text/x-python",
   "name": "python",
   "nbconvert_exporter": "python",
   "pygments_lexer": "ipython3",
   "version": "3.9.13"
  }
 },
 "nbformat": 4,
 "nbformat_minor": 5
}
