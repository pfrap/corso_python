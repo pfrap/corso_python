{
 "cells": [
  {
   "cell_type": "markdown",
   "id": "ae865123",
   "metadata": {},
   "source": [
    "# Corso di Python 2022-2023\n",
    "Appunti vari\n",
    "\n",
    "(Questo è una cella di jupyter notebook formattata come testo con linguaggio markdown)"
   ]
  },
  {
   "cell_type": "markdown",
   "id": "aff2b63d",
   "metadata": {},
   "source": [
    "## Variabili"
   ]
  },
  {
   "cell_type": "code",
   "execution_count": 97,
   "id": "794ca81d",
   "metadata": {},
   "outputs": [],
   "source": [
    "#This instead is a Python note string\n",
    "\n",
    "x=10 #Questa è una variabile\n",
    "x='Pietro' #Puo anche essere una stringa di testo"
   ]
  },
  {
   "cell_type": "markdown",
   "id": "30faebda",
   "metadata": {},
   "source": [
    "## Tipi di dati"
   ]
  },
  {
   "cell_type": "code",
   "execution_count": 98,
   "id": "d25c6f7b",
   "metadata": {},
   "outputs": [
    {
     "name": "stdout",
     "output_type": "stream",
     "text": [
      "<class 'int'>\n",
      "<class 'float'>\n",
      "<class 'str'>\n",
      "<class 'bool'>\n"
     ]
    }
   ],
   "source": [
    "#Python dispone di alcuni tipi di dati più frequenti\n",
    "\n",
    "x=10 #Numero intero, SEMPLICE, STATICO, OMOGENEO\n",
    "y=10.0 #Numero float (decimale)\n",
    "z='Testo' #Stringa di testo, ORDINATA, NON MODIFICABILE, OMOGENEA\n",
    "valore=True #Boolean - vero o falso\n",
    "\n",
    "print (type (x))\n",
    "print (type (y))\n",
    "print (type (z))\n",
    "print (type (valore))"
   ]
  },
  {
   "cell_type": "code",
   "execution_count": 99,
   "id": "b4fd8a42",
   "metadata": {},
   "outputs": [
    {
     "name": "stdout",
     "output_type": "stream",
     "text": [
      "<class 'list'>\n",
      "<class 'tuple'>\n",
      "<class 'set'>\n",
      "<class 'dict'>\n"
     ]
    }
   ],
   "source": [
    "#Riguardo le collezioni di dati questi possono essere alcune tipologie\n",
    "lista=[123, 'Pietro', 'Frapoli', 'Altro testo'] #ORDINATA, MODIFICABILE, ETEROGENEA\n",
    "print (type(lista))\n",
    "\n",
    "tupla=(1,2, 'milano') #ORDINATA, NON MODIFICABILE, ETEROGENEA\n",
    "print (type(tupla))\n",
    "\n",
    "tipo_set={'prova', 'pietro', 10, 1+5}\n",
    "print (type(tipo_set))\n",
    "\n",
    "dizionario={'nome':'pietro','cognome':'frapoli', 'age':10+5} #NON ORDINATO, MODIFICABILE, ETEROGENEO\n",
    "print (type(dizionario))\n"
   ]
  },
  {
   "cell_type": "markdown",
   "id": "4f857850",
   "metadata": {},
   "source": [
    "## Metodi"
   ]
  },
  {
   "cell_type": "markdown",
   "id": "16629d4d",
   "metadata": {},
   "source": [
    "### STRINGHE"
   ]
  },
  {
   "cell_type": "code",
   "execution_count": 100,
   "id": "79110ee6",
   "metadata": {},
   "outputs": [
    {
     "name": "stdout",
     "output_type": "stream",
     "text": [
      "Quest\n",
      "Questo è un pò di testo\n",
      "23\n",
      "Questo è un pò di testo che posso concatenare in questo modo\n"
     ]
    },
    {
     "data": {
      "text/plain": [
       "'QUESTO È UN PÒ DI TESTO CHE POSSO CONCATENARE IN QUESTO MODO'"
      ]
     },
     "execution_count": 100,
     "metadata": {},
     "output_type": "execute_result"
    }
   ],
   "source": [
    "#Alcuni metodi per le stringhe\n",
    "\n",
    "stringona='Questo è un pò di testo'\n",
    "print (stringona[0:5]) #print till 4 character\n",
    "print (stringona[:]) #print all\n",
    "print (len(stringona)) #riporta la lunghezza della stringa\n",
    "\n",
    "stringhina=' che posso concatenare in questo modo'\n",
    "stringona=stringona+stringhina\n",
    "print (stringona)\n",
    "\n",
    "stringona.count('a')\n",
    "stringona.upper()\n"
   ]
  },
  {
   "cell_type": "markdown",
   "id": "bdd7c6f4",
   "metadata": {},
   "source": [
    "### TUPLE"
   ]
  },
  {
   "cell_type": "code",
   "execution_count": 101,
   "id": "c8ca7e2d",
   "metadata": {},
   "outputs": [
    {
     "name": "stdout",
     "output_type": "stream",
     "text": [
      "<class 'tuple'>\n",
      "pietro\n"
     ]
    }
   ],
   "source": [
    "#Alcuni metodi per le tuple\n",
    "#Essendo immutabili sono utili per definire insiemi di costanti\n",
    "#Definita da parentesi tonde e virgola\n",
    "\n",
    "la_mia_tupla=(1,2,3,4, 'pietro', 'milano')\n",
    "print (type(la_mia_tupla))\n",
    "\n",
    "print (la_mia_tupla[4]) #Accessibile tramite index come stringa"
   ]
  },
  {
   "cell_type": "markdown",
   "id": "2915f229",
   "metadata": {},
   "source": [
    "### LISTE"
   ]
  },
  {
   "cell_type": "code",
   "execution_count": 102,
   "id": "81784e40",
   "metadata": {},
   "outputs": [
    {
     "name": "stdout",
     "output_type": "stream",
     "text": [
      "<class 'list'>\n",
      "['milano', 'firenze', 'palermo', 10, 11, 12, 'panino']\n",
      "['milano', 'firenze', 'palermo', 10, 11, 12, 'panino', 'papavero', 'viola']\n",
      "['milano', 'firenze', 'palermo', 10, 11, 12, 'panino', 'papavero']\n",
      "['milano', 'firenze', 'palermo', 10, 11, 12, 'papavero']\n",
      "['primo elemento', 'milano', 'firenze', 'palermo', 10, 11, 12, 'papavero']\n"
     ]
    }
   ],
   "source": [
    "#Alcuni metodi per le liste\n",
    "#Definite da parentesi quadre e virgole\n",
    "\n",
    "mia_lista=['milano', 'firenze', 'palermo',10, 11, 12]\n",
    "print (type(mia_lista))\n",
    "\n",
    "mia_lista.append('panino') #Con append aggiungo un elemento in fondo\n",
    "print(mia_lista)\n",
    "\n",
    "altra_lista=['papavero', 'viola']\n",
    "mia_lista.extend (altra_lista) #In questo modo ho esteso la prima lista con la seconda\n",
    "print(mia_lista)\n",
    "\n",
    "# mia_lista.sort() #supportato solo con elementi omogenei\n",
    "\n",
    "mia_lista.pop() #rimuove ultimo elemento\n",
    "print(mia_lista)\n",
    "\n",
    "mia_lista.remove('panino') #può rimuovere elemento specificato\n",
    "print(mia_lista)\n",
    "\n",
    "mia_lista.insert(0, 'primo elemento') #INDICE, ELEMENTO da inserire\n",
    "print(mia_lista)\n"
   ]
  },
  {
   "cell_type": "markdown",
   "id": "d9c7c8a0",
   "metadata": {},
   "source": [
    "### DICTIONARY"
   ]
  },
  {
   "cell_type": "code",
   "execution_count": 103,
   "id": "87192569",
   "metadata": {},
   "outputs": [
    {
     "name": "stdout",
     "output_type": "stream",
     "text": [
      "{'nome': 'Pietro', 'cognome': 'Frapoli', 'eta': 32}\n",
      "3\n",
      "<class 'dict'>\n",
      "Frapoli\n"
     ]
    }
   ],
   "source": [
    "#Alcuni metodi per i dizionari\n",
    "#KEY:VALUE\n",
    "#dizionario non ammette duplicati\n",
    "\n",
    "persona= {\n",
    "    'nome': 'Pietro',\n",
    "    'cognome': 'Frapoli',\n",
    "    'eta': 32\n",
    "}\n",
    "print(persona)\n",
    "print(len(persona))\n",
    "print(type(persona))\n",
    "\n",
    "print(persona['cognome']) #ELEMENTI ACCESSIBILI TRAMITE CHIAVI\n"
   ]
  },
  {
   "cell_type": "code",
   "execution_count": 104,
   "id": "ffc7c412",
   "metadata": {},
   "outputs": [
    {
     "name": "stdout",
     "output_type": "stream",
     "text": [
      "dict_keys(['nome', 'cognome', 'eta'])\n",
      "dict_values(['Pietro', 'Frapoli', 32])\n",
      "dict_items([('nome', 'Pietro'), ('cognome', 'Frapoli'), ('eta', 32)])\n",
      "{'nome': 'Marco', 'cognome': 'Frapoli', 'eta': 32}\n",
      "{'cognome': 'Frapoli', 'eta': 32}\n"
     ]
    }
   ],
   "source": [
    "chiavi= persona.keys() #FA UNA LISTA CON LE CHIAVI DEL DIZIONARIO\n",
    "print(chiavi)\n",
    "valori= persona.values() #FA UNA LISTA CON I VALORI DEL DIZIONARIO\n",
    "print(valori)\n",
    "items= persona.items() #FA UNA LISTA CON LE COPPIE DEL DIZIONARIO COME TUPLE\n",
    "print(items)\n",
    "\n",
    "persona['nome']='Marco' #Accedendo tramite quadre trovo la chiave e modifico il valore\n",
    "print (persona)\n",
    "\n",
    "persona.pop('nome') #Elimina la chiave e relativo valore\n",
    "print(persona)"
   ]
  },
  {
   "cell_type": "code",
   "execution_count": 105,
   "id": "5ac9fde6",
   "metadata": {},
   "outputs": [
    {
     "name": "stdout",
     "output_type": "stream",
     "text": [
      "cognome\n",
      "eta\n",
      "Frapoli\n",
      "32\n",
      "cognome Frapoli\n",
      "eta 32\n",
      "{'cognome': 'Frapoli', 'eta': 32}\n",
      "{'cognome': 'Frapoli', 'eta': 32}\n"
     ]
    }
   ],
   "source": [
    "#CICLIIIIIIIIIIIIIIII\n",
    "\n",
    "for x in persona.keys(): #PRENDE LE CHIAVI E LE CICLA\n",
    "    print (x)\n",
    "for x in persona.values(): #PRENDE I VALORI E LI CICLA\n",
    "    print (x)\n",
    "for x,y in persona.items(): #PRENDE LE CHIAVI E I VALORI E LI CICLA\n",
    "    print (x,y)\n",
    "    \n",
    "\n",
    "#METODI PER FARE COPIE\n",
    "dizionario_copia=persona.copy() \n",
    "print(dizionario_copia)\n",
    "dizionario_copia_2= dict (persona)\n",
    "print (dizionario_copia_2)"
   ]
  },
  {
   "cell_type": "markdown",
   "id": "774cc98e",
   "metadata": {},
   "source": [
    "### CICLI WHILE"
   ]
  },
  {
   "cell_type": "code",
   "execution_count": 106,
   "id": "174b4fff",
   "metadata": {},
   "outputs": [
    {
     "name": "stdout",
     "output_type": "stream",
     "text": [
      "10\n",
      "11\n",
      "13\n",
      "16\n",
      "20\n",
      "25\n",
      "31\n",
      "38\n",
      "46\n",
      "55\n"
     ]
    }
   ],
   "source": [
    "#CICLI WHILE\n",
    "\n",
    "num=10\n",
    "i=0\n",
    "while i<10:\n",
    "    num=num+i\n",
    "    print(num)\n",
    "    i+=1\n",
    "#Finche verificata una certa condizione continua a ciclare\n"
   ]
  },
  {
   "cell_type": "code",
   "execution_count": 107,
   "id": "007651ff",
   "metadata": {},
   "outputs": [
    {
     "name": "stdout",
     "output_type": "stream",
     "text": [
      "Il contatore è arrivato a:  10\n",
      "65\n",
      "76\n",
      "88\n",
      "101\n",
      "115\n",
      "130\n",
      "146\n",
      "163\n",
      "Il contatore è arrivato a:  18\n"
     ]
    }
   ],
   "source": [
    "print('Il contatore è arrivato a: ', i)\n",
    "while i<20:\n",
    "    num=num+i\n",
    "    print(num)\n",
    "    i+=1\n",
    "    if i==18:\n",
    "        break #Comando break stoppa il ciclo e passa avanti\n",
    "\n",
    "print('Il contatore è arrivato a: ', i)\n"
   ]
  },
  {
   "cell_type": "markdown",
   "id": "94f48027",
   "metadata": {},
   "source": [
    "### CICLI FOR"
   ]
  },
  {
   "cell_type": "code",
   "execution_count": 108,
   "id": "35552e82",
   "metadata": {},
   "outputs": [
    {
     "name": "stdout",
     "output_type": "stream",
     "text": [
      "cognome\n",
      "eta\n",
      "Frapoli\n",
      "32\n",
      "cognome Frapoli\n",
      "eta 32\n"
     ]
    }
   ],
   "source": [
    "for x in persona.keys(): #PRENDE LE CHIAVI E LE CICLA\n",
    "    print (x)\n",
    "for x in persona.values(): #PRENDE I VALORI E LI CICLA\n",
    "    print (x)\n",
    "for x,y in persona.items(): #PRENDE LE CHIAVI E I VALORI E LI CICLA\n",
    "    print (x,y)"
   ]
  },
  {
   "cell_type": "markdown",
   "id": "373fc321",
   "metadata": {},
   "source": [
    "## FUNZIONI"
   ]
  },
  {
   "cell_type": "code",
   "execution_count": 109,
   "id": "0054995b",
   "metadata": {},
   "outputs": [
    {
     "name": "stdout",
     "output_type": "stream",
     "text": [
      "metti acqua\n",
      "fai bollire\n",
      "metti i fusilli\n"
     ]
    }
   ],
   "source": [
    "def fai_la_pasta():\n",
    "    print ('metti acqua')\n",
    "    print ('fai bollire')\n",
    "    print ('metti la pasta')\n",
    "    \n",
    "#PARAMETRI\n",
    "\n",
    "def fai_la_pasta(tipo_pasta): #PARAMETRO\n",
    "    print ('metti acqua')\n",
    "    print ('fai bollire')\n",
    "    print ('metti i ' + tipo_pasta) #qui inserisco il parametro concatenato\n",
    "\n",
    "fai_la_pasta('fusilli') #ARGOMENTO"
   ]
  },
  {
   "cell_type": "code",
   "execution_count": 110,
   "id": "92e1168a",
   "metadata": {},
   "outputs": [
    {
     "name": "stdout",
     "output_type": "stream",
     "text": [
      "7\n",
      "7\n",
      "7\n",
      "7\n"
     ]
    }
   ],
   "source": [
    "def fai_somma(num1, num2):\n",
    "    somma=num1+num2\n",
    "    print(somma)\n",
    "\n",
    "fai_somma (5,2)\n",
    "\n",
    "def fai_somma(num1, num2): #ESEMPIO CON RETURN TO PRINT THE VALUE\n",
    "    somma=num1+num2\n",
    "    print(somma)\n",
    "    return somma\n",
    "\n",
    "fai_somma (5,2)\n",
    "print (fai_somma(2,5))"
   ]
  },
  {
   "cell_type": "markdown",
   "id": "412e4feb",
   "metadata": {},
   "source": [
    "## Classi e oggetti\n",
    "Sorta di template/stampini per fare istanze ripetute di oggetti simili"
   ]
  },
  {
   "cell_type": "code",
   "execution_count": 111,
   "id": "11a6706c",
   "metadata": {},
   "outputs": [
    {
     "name": "stdout",
     "output_type": "stream",
     "text": [
      "Pietro\n"
     ]
    }
   ],
   "source": [
    "#Creo una classe di persone con nome e cognome compilabile\n",
    "class persona:\n",
    "    nome='Pietro'\n",
    "    cognome='Frapoli'\n",
    "\n",
    "persona1=persona()\n",
    "persona2=persona()\n",
    "print(persona1.nome)"
   ]
  },
  {
   "cell_type": "code",
   "execution_count": 112,
   "id": "cf01f5a8",
   "metadata": {},
   "outputs": [
    {
     "name": "stdout",
     "output_type": "stream",
     "text": [
      "pietro\n",
      "giorgio\n"
     ]
    }
   ],
   "source": [
    "#COSTRUTTORE\n",
    "class persona:\n",
    "    def __init__(self, nome, cognome):\n",
    "        self.nome=nome\n",
    "        self.cognome=cognome\n",
    "\n",
    "persona1=persona('pietro','frapoli')\n",
    "persona2=persona('giorgio','tavazzi')\n",
    "print(persona1.nome)\n",
    "print(persona2.nome)"
   ]
  },
  {
   "cell_type": "code",
   "execution_count": 113,
   "id": "14dc9418",
   "metadata": {},
   "outputs": [
    {
     "name": "stdout",
     "output_type": "stream",
     "text": [
      "Ciao! Sono pietro\n"
     ]
    }
   ],
   "source": [
    "#METODI E PARAMETRO SELF\n",
    "class persona:\n",
    "    def __init__(self, nome, cognome):\n",
    "        self.nome=nome\n",
    "        self.cognome=cognome\n",
    "    def saluta (self):\n",
    "        print ('Ciao! Sono ' + self.nome)\n",
    "\n",
    "persona1=persona('pietro','frapoli')\n",
    "\n",
    "persona1.saluta()"
   ]
  },
  {
   "cell_type": "code",
   "execution_count": 115,
   "id": "783f044a",
   "metadata": {},
   "outputs": [],
   "source": [
    "#NESTED CLASS ED EREDITARIETA' ##### NON MOLTO CHIARO\n",
    "#class insegnante(persona):\n",
    " #   self.materia=materia\n",
    "\n",
    "#insegnante5=insegnante('marco', 'rossi')\n",
    "#insegnante5.saluta()"
   ]
  },
  {
   "cell_type": "markdown",
   "id": "13cd5cbc",
   "metadata": {},
   "source": [
    "## SCOPE\n",
    "Variabili possono essere scope-locali o scope-globali.\n",
    "Variabili dentro le funzioni sono locali, variabili fuori sono globali: sempre accessibili."
   ]
  },
  {
   "cell_type": "code",
   "execution_count": 116,
   "id": "4eeca840",
   "metadata": {},
   "outputs": [
    {
     "name": "stdout",
     "output_type": "stream",
     "text": [
      "None\n"
     ]
    }
   ],
   "source": [
    "#SENZA RETURN\n",
    "def funzione():\n",
    "    x=200\n",
    "x=funzione()\n",
    "print(x)"
   ]
  },
  {
   "cell_type": "code",
   "execution_count": 117,
   "id": "d89d9ee3",
   "metadata": {},
   "outputs": [
    {
     "name": "stdout",
     "output_type": "stream",
     "text": [
      "200\n"
     ]
    }
   ],
   "source": [
    "#CON RETURN\n",
    "def funzione():\n",
    "    x=200\n",
    "    return x\n",
    "x=funzione()\n",
    "print(x)"
   ]
  },
  {
   "cell_type": "code",
   "execution_count": 118,
   "id": "55c7131e",
   "metadata": {},
   "outputs": [
    {
     "name": "stdout",
     "output_type": "stream",
     "text": [
      "200\n"
     ]
    }
   ],
   "source": [
    "#GLOBAL\n",
    "y=300\n",
    "def funzione_global():\n",
    "    global y\n",
    "    y=200\n",
    "funzione_global() #dentro la funzione è inserita istruzione di modifica variabile globale\n",
    "                    #se non faccio andare la funzione il parametro rimane quello globale\n",
    "print (y)"
   ]
  },
  {
   "cell_type": "markdown",
   "id": "e1fd3f47",
   "metadata": {},
   "source": [
    "## FILE HANDLING"
   ]
  },
  {
   "cell_type": "markdown",
   "id": "690d58a0",
   "metadata": {},
   "source": [
    "r - Read: apre il file per leggere, errore se non esiste\n",
    "\n",
    "a - Append: apre il file per appendere, crea il file se non esiste (non modifica quanto sopra, tipo per un log file)\n",
    "\n",
    "w - Write: apre il file per scrivere, crea il file se non esiste\n",
    "\n",
    "x - Create: crea il file, errore se esiste"
   ]
  },
  {
   "cell_type": "code",
   "execution_count": 3,
   "id": "a01aee06",
   "metadata": {},
   "outputs": [
    {
     "name": "stdout",
     "output_type": "stream",
     "text": [
      "Lorem ipsum bla blaLorem ipsum bla blaLorem ipsum bla blaLorem ipsum bla bla\n",
      "Lorem ipsum bla bla Lorem ipsum bla bla\n"
     ]
    }
   ],
   "source": [
    "f=open ('testo.txt')\n",
    "print (f.read())"
   ]
  },
  {
   "cell_type": "code",
   "execution_count": 5,
   "id": "c587f65b",
   "metadata": {},
   "outputs": [
    {
     "name": "stdout",
     "output_type": "stream",
     "text": [
      "Altro testo di prova per cartella diversa da cartella corrente\n",
      "\n"
     ]
    }
   ],
   "source": [
    "af=open ('altro_testo.txt')\n",
    "print (af.read())\n",
    "\n",
    "#lo ha letto solo quando l'ho copiato nella cartella corrente"
   ]
  },
  {
   "cell_type": "code",
   "execution_count": 17,
   "id": "e86458d6",
   "metadata": {},
   "outputs": [
    {
     "name": "stdout",
     "output_type": "stream",
     "text": [
      "Lorem\n"
     ]
    }
   ],
   "source": [
    "f=open ('testo.txt')\n",
    "print (f.read(5))\n",
    "\n",
    "#così legge solo i primi 5 caratteri"
   ]
  },
  {
   "cell_type": "code",
   "execution_count": 14,
   "id": "dd05da4b",
   "metadata": {},
   "outputs": [
    {
     "name": "stdout",
     "output_type": "stream",
     "text": [
      "Altro testo riga 4\n",
      "\n"
     ]
    }
   ],
   "source": [
    "f= open('altro_testo.txt')\n",
    "print (af.readline())\n",
    "\n",
    "#lascia in memoria la riga che ha letto"
   ]
  },
  {
   "cell_type": "code",
   "execution_count": 15,
   "id": "4977560b",
   "metadata": {},
   "outputs": [
    {
     "name": "stdout",
     "output_type": "stream",
     "text": [
      "Altro testo di prova per cartella diversa da cartella corrente\n",
      "\n",
      "Altro testo riga 2\n",
      "\n",
      "Altro testo riga 3\n",
      "\n",
      "Altro testo riga 4\n",
      "\n",
      "\n",
      "\n"
     ]
    }
   ],
   "source": [
    "for riga in f:\n",
    "    print (riga)"
   ]
  },
  {
   "cell_type": "code",
   "execution_count": 20,
   "id": "380e28a5",
   "metadata": {},
   "outputs": [
    {
     "ename": "ValueError",
     "evalue": "I/O operation on closed file.",
     "output_type": "error",
     "traceback": [
      "\u001b[1;31m---------------------------------------------------------------------------\u001b[0m",
      "\u001b[1;31mValueError\u001b[0m                                Traceback (most recent call last)",
      "\u001b[1;32m~\\AppData\\Local\\Temp\\ipykernel_14800\\752564465.py\u001b[0m in \u001b[0;36m<module>\u001b[1;34m\u001b[0m\n\u001b[0;32m      1\u001b[0m \u001b[0mf\u001b[0m\u001b[1;33m.\u001b[0m\u001b[0mclose\u001b[0m\u001b[1;33m(\u001b[0m\u001b[1;33m)\u001b[0m\u001b[1;33m\u001b[0m\u001b[1;33m\u001b[0m\u001b[0m\n\u001b[1;32m----> 2\u001b[1;33m \u001b[0mprint\u001b[0m \u001b[1;33m(\u001b[0m\u001b[0mf\u001b[0m\u001b[1;33m.\u001b[0m\u001b[0mread\u001b[0m\u001b[1;33m(\u001b[0m\u001b[1;33m)\u001b[0m\u001b[1;33m)\u001b[0m\u001b[1;33m\u001b[0m\u001b[1;33m\u001b[0m\u001b[0m\n\u001b[0m\u001b[0;32m      3\u001b[0m \u001b[1;33m\u001b[0m\u001b[0m\n\u001b[0;32m      4\u001b[0m \u001b[1;31m#il file è chiuso e quindi non stampa niente\u001b[0m\u001b[1;33m\u001b[0m\u001b[1;33m\u001b[0m\u001b[0m\n",
      "\u001b[1;31mValueError\u001b[0m: I/O operation on closed file."
     ]
    }
   ],
   "source": [
    "f.close()\n",
    "print (f.read())\n",
    "\n",
    "#il file è chiuso e quindi non stampa niente\n"
   ]
  },
  {
   "cell_type": "markdown",
   "id": "58833438",
   "metadata": {},
   "source": [
    "### Ora proviamo a creare e/o scrivere su un file"
   ]
  },
  {
   "cell_type": "code",
   "execution_count": 27,
   "id": "882a89d4",
   "metadata": {},
   "outputs": [],
   "source": [
    "nfi= open('nuovo_file.txt', 'w')\n",
    "nfi.write ('Questo è un file creato direttamente da python in cui ho scritto questo testo')\n",
    "nfi.close()\n",
    "\n",
    "#Con la 'W' indico che può sovrascrivere il contenuto del file\n",
    "#Se avessi messo la 'A' avrebbe fatto append aggiungendo in coda il contenuto"
   ]
  },
  {
   "cell_type": "code",
   "execution_count": 31,
   "id": "345ca1ea",
   "metadata": {},
   "outputs": [],
   "source": [
    "#Creiamo un altro file di prova\n",
    "\n",
    "libro=open('libro.txt', 'w')\n",
    "i=0\n",
    "while i<100:\n",
    "    libro.write(str(i))\n",
    "    i+=1\n",
    "libro.close()"
   ]
  },
  {
   "cell_type": "code",
   "execution_count": 36,
   "id": "e49e10b7",
   "metadata": {
    "scrolled": true
   },
   "outputs": [
    {
     "name": "stdout",
     "output_type": "stream",
     "text": [
      "0123456789101112131415161718192021222324252627282930313233343536373839404142434445464748495051525354555657585960616263646566676869707172737475767778798081828384858687888990919293949596979899\n"
     ]
    }
   ],
   "source": [
    "libro=open('libro.txt', 'r')\n",
    "print (libro.read())\n",
    "libro.close()"
   ]
  },
  {
   "cell_type": "markdown",
   "id": "c1722657",
   "metadata": {},
   "source": [
    "### Istruzioni per rimuovere (eliminare) file o cartella"
   ]
  },
  {
   "cell_type": "code",
   "execution_count": 37,
   "id": "8ffaf343",
   "metadata": {},
   "outputs": [
    {
     "name": "stdout",
     "output_type": "stream",
     "text": [
      "Yes il file esiste\n"
     ]
    }
   ],
   "source": [
    "import os\n",
    "\n",
    "#os.remove('nome file.ext')\n",
    "#os.rmdir('nomecartella')\n",
    "\n",
    "if os.path.exists('libro.txt'):\n",
    "    print('Yes il file esiste')\n",
    "else:\n",
    "    print('Non esiste questo file')"
   ]
  },
  {
   "cell_type": "code",
   "execution_count": 47,
   "id": "72fe6137",
   "metadata": {},
   "outputs": [
    {
     "name": "stdout",
     "output_type": "stream",
     "text": [
      "0\n",
      "01234\n"
     ]
    }
   ],
   "source": [
    "#.seek definisce la posizione da cui iniziare le operazioni\n",
    "#.tell ti dice in che posizione ti trovi\n",
    "\n",
    "libro=open('libro.txt')\n",
    "libro.seek(0)\n",
    "parla=libro.tell()\n",
    "print (parla)\n",
    "\n",
    "print(libro.read(5))"
   ]
  }
 ],
 "metadata": {
  "kernelspec": {
   "display_name": "Python 3 (ipykernel)",
   "language": "python",
   "name": "python3"
  },
  "language_info": {
   "codemirror_mode": {
    "name": "ipython",
    "version": 3
   },
   "file_extension": ".py",
   "mimetype": "text/x-python",
   "name": "python",
   "nbconvert_exporter": "python",
   "pygments_lexer": "ipython3",
   "version": "3.9.13"
  }
 },
 "nbformat": 4,
 "nbformat_minor": 5
}
